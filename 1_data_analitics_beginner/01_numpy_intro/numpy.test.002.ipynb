{
 "cells": [
  {
   "cell_type": "markdown",
   "id": "300c5944",
   "metadata": {},
   "source": [
    "### 1"
   ]
  },
  {
   "cell_type": "code",
   "execution_count": 1,
   "id": "1d93bcc0",
   "metadata": {},
   "outputs": [],
   "source": [
    "import numpy as np"
   ]
  },
  {
   "cell_type": "code",
   "execution_count": 2,
   "id": "51fa6b14",
   "metadata": {},
   "outputs": [
    {
     "data": {
      "text/plain": [
       "array([ 5,  4,  3, 10,  8,  7])"
      ]
     },
     "execution_count": 2,
     "metadata": {},
     "output_type": "execute_result"
    }
   ],
   "source": [
    "scores = np.array([5, 4, 3, 10, 8, 7])\n",
    "scores"
   ]
  },
  {
   "cell_type": "code",
   "execution_count": 3,
   "id": "8937a74e",
   "metadata": {},
   "outputs": [
    {
     "data": {
      "text/plain": [
       "1"
      ]
     },
     "execution_count": 3,
     "metadata": {},
     "output_type": "execute_result"
    }
   ],
   "source": [
    "scores.ndim"
   ]
  },
  {
   "cell_type": "code",
   "execution_count": 4,
   "id": "c7f83abd",
   "metadata": {},
   "outputs": [
    {
     "data": {
      "text/plain": [
       "array([[ 5,  4],\n",
       "       [ 3, 10],\n",
       "       [ 8,  7]])"
      ]
     },
     "execution_count": 4,
     "metadata": {},
     "output_type": "execute_result"
    }
   ],
   "source": [
    "paired = scores.reshape(3, 2)\n",
    "paired"
   ]
  },
  {
   "cell_type": "code",
   "execution_count": 5,
   "id": "09fe95f0",
   "metadata": {},
   "outputs": [
    {
     "data": {
      "text/plain": [
       "2"
      ]
     },
     "execution_count": 5,
     "metadata": {},
     "output_type": "execute_result"
    }
   ],
   "source": [
    "paired.ndim"
   ]
  },
  {
   "cell_type": "code",
   "execution_count": 6,
   "id": "22b803b0",
   "metadata": {},
   "outputs": [
    {
     "data": {
      "text/plain": [
       "array([[ 5,  3,  8],\n",
       "       [ 4, 10,  7]])"
      ]
     },
     "execution_count": 6,
     "metadata": {},
     "output_type": "execute_result"
    }
   ],
   "source": [
    "paired.transpose()"
   ]
  },
  {
   "cell_type": "code",
   "execution_count": 7,
   "id": "c9f8f39f",
   "metadata": {},
   "outputs": [
    {
     "data": {
      "text/plain": [
       "array([ 5,  4,  3, 10,  8,  7])"
      ]
     },
     "execution_count": 7,
     "metadata": {},
     "output_type": "execute_result"
    }
   ],
   "source": [
    "paired.ravel()"
   ]
  },
  {
   "cell_type": "code",
   "execution_count": 8,
   "id": "ef93f925",
   "metadata": {},
   "outputs": [],
   "source": [
    "paired2 = paired.copy()\n",
    "paired2[1][0] = 4"
   ]
  },
  {
   "cell_type": "code",
   "execution_count": 9,
   "id": "21e1a1c0",
   "metadata": {},
   "outputs": [
    {
     "name": "stdout",
     "output_type": "stream",
     "text": [
      "[[ 5  4]\n",
      " [ 3 10]\n",
      " [ 8  7]]\n",
      "[[ 5  4]\n",
      " [ 4 10]\n",
      " [ 8  7]]\n"
     ]
    }
   ],
   "source": [
    "print(paired)\n",
    "print(paired2)"
   ]
  },
  {
   "cell_type": "code",
   "execution_count": 10,
   "id": "3a3dd6cf",
   "metadata": {},
   "outputs": [
    {
     "data": {
      "text/plain": [
       "array([[ 5,  4],\n",
       "       [ 4, 10]])"
      ]
     },
     "execution_count": 10,
     "metadata": {},
     "output_type": "execute_result"
    }
   ],
   "source": [
    "paired2[0:2]"
   ]
  },
  {
   "cell_type": "code",
   "execution_count": 11,
   "id": "e6d282dd",
   "metadata": {},
   "outputs": [
    {
     "data": {
      "text/plain": [
       "array([[1, 2],\n",
       "       [3, 4],\n",
       "       [8, 7]])"
      ]
     },
     "execution_count": 11,
     "metadata": {},
     "output_type": "execute_result"
    }
   ],
   "source": [
    "paired2[0:2] = [[1, 2], [3, 4]]\n",
    "paired2"
   ]
  },
  {
   "cell_type": "markdown",
   "id": "68954946",
   "metadata": {},
   "source": [
    "### 2"
   ]
  },
  {
   "cell_type": "code",
   "execution_count": 12,
   "id": "7d981e41",
   "metadata": {},
   "outputs": [],
   "source": [
    "income = np.array([[20000, 30000, 25000, 700000],\n",
    "                 [32000, 18000, 22000, 54000]])"
   ]
  },
  {
   "cell_type": "code",
   "execution_count": 13,
   "id": "c5073d46",
   "metadata": {},
   "outputs": [],
   "source": [
    "logincome = np.log(income)"
   ]
  },
  {
   "cell_type": "code",
   "execution_count": 14,
   "id": "f5f1ae46",
   "metadata": {},
   "outputs": [
    {
     "data": {
      "text/plain": [
       "[<matplotlib.lines.Line2D at 0x22f5d78fd50>]"
      ]
     },
     "execution_count": 14,
     "metadata": {},
     "output_type": "execute_result"
    },
    {
     "data": {
      "image/png": "[encoded data removed]",
      "text/plain": [
       "<Figure size 640x480 with 1 Axes>"
      ]
     },
     "metadata": {},
     "output_type": "display_data"
    }
   ],
   "source": [
    "%matplotlib inline\n",
    "from matplotlib import pyplot as plt\n",
    "plt.plot(np.arange(8), income.flatten(), 'bo')"
   ]
  },
  {
   "cell_type": "code",
   "execution_count": 15,
   "id": "c15eb4f1",
   "metadata": {},
   "outputs": [
    {
     "data": {
      "text/plain": [
       "[<matplotlib.lines.Line2D at 0x22f5d6bc650>]"
      ]
     },
     "execution_count": 15,
     "metadata": {},
     "output_type": "execute_result"
    },
    {
     "data": {
      "image/png": "[encoded data removed]",
      "text/plain": [
       "<Figure size 640x480 with 1 Axes>"
      ]
     },
     "metadata": {},
     "output_type": "display_data"
    }
   ],
   "source": [
    "%matplotlib inline\n",
    "plt.plot(np.arange(8), logincome.flatten(), 'bo')"
   ]
  },
  {
   "cell_type": "code",
   "execution_count": 16,
   "id": "2724aa96",
   "metadata": {},
   "outputs": [],
   "source": [
    "L = [2, 6, 7, 1]"
   ]
  },
  {
   "cell_type": "code",
   "execution_count": 17,
   "id": "ab6e0fc7",
   "metadata": {},
   "outputs": [
    {
     "data": {
      "text/plain": [
       "[4, 36, 49, 1]"
      ]
     },
     "execution_count": 17,
     "metadata": {},
     "output_type": "execute_result"
    }
   ],
   "source": [
    "L_sq = [i ** 2 for i in L]\n",
    "L_sq"
   ]
  },
  {
   "cell_type": "markdown",
   "id": "3dee2e14",
   "metadata": {},
   "source": [
    "### 3"
   ]
  },
  {
   "cell_type": "code",
   "execution_count": 18,
   "id": "bc1427d1",
   "metadata": {},
   "outputs": [
    {
     "data": {
      "text/plain": [
       "array([1.  , 1.05, 1.1 , 1.15, 1.2 , 1.25, 1.3 , 1.35, 1.4 , 1.45, 1.5 ,\n",
       "       1.55, 1.6 , 1.65, 1.7 , 1.75, 1.8 , 1.85, 1.9 , 1.95, 2.  , 2.05,\n",
       "       2.1 , 2.15, 2.2 , 2.25, 2.3 , 2.35, 2.4 , 2.45, 2.5 , 2.55, 2.6 ,\n",
       "       2.65, 2.7 , 2.75, 2.8 , 2.85, 2.9 , 2.95, 3.  , 3.05, 3.1 , 3.15,\n",
       "       3.2 , 3.25, 3.3 , 3.35, 3.4 , 3.45, 3.5 , 3.55, 3.6 , 3.65, 3.7 ,\n",
       "       3.75, 3.8 , 3.85, 3.9 , 3.95, 4.  , 4.05, 4.1 , 4.15, 4.2 , 4.25,\n",
       "       4.3 , 4.35, 4.4 , 4.45, 4.5 , 4.55, 4.6 , 4.65, 4.7 , 4.75, 4.8 ,\n",
       "       4.85, 4.9 , 4.95, 5.  , 5.05, 5.1 , 5.15, 5.2 , 5.25, 5.3 , 5.35,\n",
       "       5.4 , 5.45, 5.5 , 5.55, 5.6 , 5.65, 5.7 , 5.75, 5.8 , 5.85, 5.9 ,\n",
       "       5.95, 6.  , 6.05, 6.1 , 6.15, 6.2 , 6.25, 6.3 , 6.35, 6.4 , 6.45,\n",
       "       6.5 , 6.55, 6.6 , 6.65, 6.7 , 6.75, 6.8 , 6.85, 6.9 , 6.95, 7.  ,\n",
       "       7.05, 7.1 , 7.15, 7.2 , 7.25, 7.3 , 7.35, 7.4 , 7.45, 7.5 , 7.55,\n",
       "       7.6 , 7.65, 7.7 , 7.75, 7.8 , 7.85, 7.9 , 7.95, 8.  , 8.05, 8.1 ,\n",
       "       8.15, 8.2 , 8.25, 8.3 , 8.35, 8.4 , 8.45, 8.5 , 8.55, 8.6 , 8.65,\n",
       "       8.7 , 8.75, 8.8 , 8.85, 8.9 , 8.95, 9.  , 9.05, 9.1 , 9.15, 9.2 ,\n",
       "       9.25, 9.3 , 9.35, 9.4 , 9.45, 9.5 , 9.55, 9.6 , 9.65, 9.7 , 9.75,\n",
       "       9.8 , 9.85, 9.9 , 9.95])"
      ]
     },
     "execution_count": 18,
     "metadata": {},
     "output_type": "execute_result"
    }
   ],
   "source": [
    "N = np.arange(1, 10, 0.05)\n",
    "N"
   ]
  },
  {
   "cell_type": "code",
   "execution_count": 19,
   "id": "3af95b06",
   "metadata": {},
   "outputs": [
    {
     "data": {
      "text/plain": [
       "array([ 1. ,  1. ,  1.1,  1.2,  1.2,  1.3,  1.3,  1.4,  1.4,  1.5,  1.5,\n",
       "        1.6,  1.6,  1.7,  1.7,  1.8,  1.8,  1.9,  1.9,  2. ,  2. ,  2.1,\n",
       "        2.1,  2.2,  2.2,  2.3,  2.3,  2.4,  2.4,  2.5,  2.5,  2.6,  2.6,\n",
       "        2.7,  2.7,  2.8,  2.8,  2.9,  2.9,  3. ,  3. ,  3.1,  3.1,  3.2,\n",
       "        3.2,  3.3,  3.3,  3.4,  3.4,  3.5,  3.5,  3.6,  3.6,  3.7,  3.7,\n",
       "        3.8,  3.8,  3.9,  3.9,  4. ,  4. ,  4.1,  4.1,  4.2,  4.2,  4.3,\n",
       "        4.3,  4.4,  4.4,  4.5,  4.5,  4.6,  4.6,  4.7,  4.7,  4.8,  4.8,\n",
       "        4.9,  4.9,  5. ,  5. ,  5.1,  5.1,  5.2,  5.2,  5.3,  5.3,  5.4,\n",
       "        5.4,  5.5,  5.5,  5.6,  5.6,  5.7,  5.7,  5.8,  5.8,  5.9,  5.9,\n",
       "        6. ,  6. ,  6.1,  6.1,  6.2,  6.2,  6.3,  6.3,  6.4,  6.4,  6.5,\n",
       "        6.5,  6.6,  6.6,  6.7,  6.7,  6.8,  6.8,  6.9,  6.9,  7. ,  7. ,\n",
       "        7.1,  7.1,  7.2,  7.2,  7.3,  7.3,  7.4,  7.4,  7.5,  7.5,  7.6,\n",
       "        7.6,  7.7,  7.7,  7.8,  7.8,  7.9,  7.9,  8. ,  8. ,  8.1,  8.1,\n",
       "        8.2,  8.2,  8.3,  8.3,  8.4,  8.4,  8.5,  8.5,  8.6,  8.6,  8.7,\n",
       "        8.7,  8.8,  8.8,  8.9,  8.9,  9. ,  9. ,  9.1,  9.1,  9.2,  9.2,\n",
       "        9.3,  9.3,  9.4,  9.4,  9.5,  9.5,  9.6,  9.6,  9.7,  9.7,  9.8,\n",
       "        9.8,  9.9,  9.9, 10. ])"
      ]
     },
     "execution_count": 19,
     "metadata": {},
     "output_type": "execute_result"
    }
   ],
   "source": [
    "N.round(1)"
   ]
  },
  {
   "cell_type": "code",
   "execution_count": 20,
   "id": "797e5993",
   "metadata": {},
   "outputs": [
    {
     "data": {
      "text/plain": [
       "array([1., 1., 1., 1., 1., 1., 1., 1., 1., 1., 1., 1., 1., 1., 1., 1., 1.,\n",
       "       1., 1., 1., 2., 2., 2., 2., 2., 2., 2., 2., 2., 2., 2., 2., 2., 2.,\n",
       "       2., 2., 2., 2., 2., 2., 3., 3., 3., 3., 3., 3., 3., 3., 3., 3., 3.,\n",
       "       3., 3., 3., 3., 3., 3., 3., 3., 3., 4., 4., 4., 4., 4., 4., 4., 4.,\n",
       "       4., 4., 4., 4., 4., 4., 4., 4., 4., 4., 4., 4., 5., 5., 5., 5., 5.,\n",
       "       5., 5., 5., 5., 5., 5., 5., 5., 5., 5., 5., 5., 5., 5., 5., 6., 6.,\n",
       "       6., 6., 6., 6., 6., 6., 6., 6., 6., 6., 6., 6., 6., 6., 6., 6., 6.,\n",
       "       6., 7., 7., 7., 7., 7., 7., 7., 7., 7., 7., 7., 7., 7., 7., 7., 7.,\n",
       "       7., 7., 7., 7., 8., 8., 8., 8., 8., 8., 8., 8., 8., 8., 8., 8., 8.,\n",
       "       8., 8., 8., 8., 8., 8., 8., 9., 9., 9., 9., 9., 9., 9., 9., 9., 9.,\n",
       "       9., 9., 9., 9., 9., 9., 9., 9., 9., 9.])"
      ]
     },
     "execution_count": 20,
     "metadata": {},
     "output_type": "execute_result"
    }
   ],
   "source": [
    "np.floor(N)"
   ]
  },
  {
   "cell_type": "code",
   "execution_count": 21,
   "id": "f0365b81",
   "metadata": {},
   "outputs": [
    {
     "data": {
      "text/plain": [
       "2.115265098365041e+121"
      ]
     },
     "execution_count": 21,
     "metadata": {},
     "output_type": "execute_result"
    }
   ],
   "source": [
    "np.prod(N)"
   ]
  },
  {
   "cell_type": "code",
   "execution_count": 22,
   "id": "0605fb15",
   "metadata": {},
   "outputs": [],
   "source": [
    "d1 = \"2022-02-24\"\n",
    "d2 = \"2023-02-20\""
   ]
  },
  {
   "cell_type": "code",
   "execution_count": 23,
   "id": "109c24aa",
   "metadata": {},
   "outputs": [
    {
     "data": {
      "text/plain": [
       "numpy.timedelta64(361,'D')"
      ]
     },
     "execution_count": 23,
     "metadata": {},
     "output_type": "execute_result"
    }
   ],
   "source": [
    "np.datetime64(d2) - np.datetime64(d1)"
   ]
  },
  {
   "cell_type": "markdown",
   "id": "df893e12",
   "metadata": {},
   "source": [
    "### 3"
   ]
  },
  {
   "cell_type": "code",
   "execution_count": 24,
   "id": "61cc2975",
   "metadata": {},
   "outputs": [],
   "source": [
    "info = np.array([('Ann', 19, 168), ('Bob', 33, 175.5), ('Dan', 31, 180)],\n",
    "                dtype = [('name', 'U20'), ('age', int), ('height', float)])"
   ]
  },
  {
   "cell_type": "code",
   "execution_count": 25,
   "id": "bd8c8c2b",
   "metadata": {},
   "outputs": [
    {
     "name": "stdout",
     "output_type": "stream",
     "text": [
      "[('Ann', 19, 168. ) ('Bob', 33, 175.5) ('Dan', 31, 180. )]\n"
     ]
    }
   ],
   "source": [
    "print(info)"
   ]
  },
  {
   "cell_type": "code",
   "execution_count": 26,
   "id": "306302c4",
   "metadata": {},
   "outputs": [
    {
     "data": {
      "text/plain": [
       "array([('Ann', 19, 168. ), ('Bob', 33, 175.5), ('Dan', 31, 180. )],\n",
       "      dtype=[('name', '<U20'), ('age', '<i4'), ('height', '<f8')])"
      ]
     },
     "execution_count": 26,
     "metadata": {},
     "output_type": "execute_result"
    }
   ],
   "source": [
    "info"
   ]
  },
  {
   "cell_type": "code",
   "execution_count": 27,
   "id": "f7a845a8",
   "metadata": {},
   "outputs": [
    {
     "data": {
      "text/plain": [
       "('Ann', 19, 168.)"
      ]
     },
     "execution_count": 27,
     "metadata": {},
     "output_type": "execute_result"
    }
   ],
   "source": [
    "info[0]"
   ]
  },
  {
   "cell_type": "code",
   "execution_count": 28,
   "id": "49df6dc0",
   "metadata": {},
   "outputs": [
    {
     "data": {
      "text/plain": [
       "array([('Bob', 33, 175.5), ('Dan', 31, 180. )],\n",
       "      dtype=[('name', '<U20'), ('age', '<i4'), ('height', '<f8')])"
      ]
     },
     "execution_count": 28,
     "metadata": {},
     "output_type": "execute_result"
    }
   ],
   "source": [
    "info[1:3]"
   ]
  },
  {
   "cell_type": "code",
   "execution_count": 29,
   "id": "3d12198d",
   "metadata": {},
   "outputs": [
    {
     "data": {
      "text/plain": [
       "array([19, 33, 31])"
      ]
     },
     "execution_count": 29,
     "metadata": {},
     "output_type": "execute_result"
    }
   ],
   "source": [
    "info['age']"
   ]
  },
  {
   "cell_type": "code",
   "execution_count": 31,
   "id": "bff8cdf1",
   "metadata": {},
   "outputs": [
    {
     "data": {
      "text/plain": [
       "array([('Ann', 19), ('Bob', 33), ('Dan', 31)],\n",
       "      dtype={'names': ['name', 'age'], 'formats': ['<U20', '<i4'], 'offsets': [0, 80], 'itemsize': 92})"
      ]
     },
     "execution_count": 31,
     "metadata": {},
     "output_type": "execute_result"
    }
   ],
   "source": [
    "info[['name', 'age']]"
   ]
  },
  {
   "cell_type": "code",
   "execution_count": 32,
   "id": "0f6e5471",
   "metadata": {},
   "outputs": [
    {
     "data": {
      "text/plain": [
       "19"
      ]
     },
     "execution_count": 32,
     "metadata": {},
     "output_type": "execute_result"
    }
   ],
   "source": [
    "info['age'][0]"
   ]
  },
  {
   "cell_type": "markdown",
   "id": "0b2e329e",
   "metadata": {},
   "source": [
    "### 4"
   ]
  },
  {
   "cell_type": "code",
   "execution_count": 33,
   "id": "b43dd579",
   "metadata": {},
   "outputs": [],
   "source": [
    "np.save(\"info.npy\", info)"
   ]
  },
  {
   "cell_type": "code",
   "execution_count": 34,
   "id": "2210eb18",
   "metadata": {},
   "outputs": [],
   "source": [
    "info_test = np.load(\"info.npy\")"
   ]
  },
  {
   "cell_type": "code",
   "execution_count": 35,
   "id": "b6e4905a",
   "metadata": {},
   "outputs": [
    {
     "data": {
      "text/plain": [
       "array([('Ann', 19, 168. ), ('Bob', 33, 175.5), ('Dan', 31, 180. )],\n",
       "      dtype=[('name', '<U20'), ('age', '<i4'), ('height', '<f8')])"
      ]
     },
     "execution_count": 35,
     "metadata": {},
     "output_type": "execute_result"
    }
   ],
   "source": [
    "info_test"
   ]
  },
  {
   "cell_type": "code",
   "execution_count": 36,
   "id": "670a89e6",
   "metadata": {},
   "outputs": [],
   "source": [
    "numbers = np.array([1, 2, 3, 4, 5])\n",
    "np.savetxt(\"numbers.txt\", numbers)"
   ]
  },
  {
   "cell_type": "code",
   "execution_count": 38,
   "id": "663329ea",
   "metadata": {},
   "outputs": [
    {
     "data": {
      "text/plain": [
       "\"[('Ann', 19, 168. ) ('Bob', 33, 175.5) ('Dan', 31, 180. )]\""
      ]
     },
     "execution_count": 38,
     "metadata": {},
     "output_type": "execute_result"
    }
   ],
   "source": [
    "np.array2string(info)"
   ]
  }
 ],
 "metadata": {
  "kernelspec": {
   "display_name": "Python 3 (ipykernel)",
   "language": "python",
   "name": "python3"
  },
  "language_info": {
   "codemirror_mode": {
    "name": "ipython",
    "version": 3
   },
   "file_extension": ".py",
   "mimetype": "text/x-python",
   "name": "python",
   "nbconvert_exporter": "python",
   "pygments_lexer": "ipython3",
   "version": "3.11.1"
  }
 },
 "nbformat": 4,
 "nbformat_minor": 5
}
