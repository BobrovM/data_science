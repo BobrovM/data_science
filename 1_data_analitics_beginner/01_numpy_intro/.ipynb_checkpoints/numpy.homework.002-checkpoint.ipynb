{
 "cells": [
  {
   "cell_type": "code",
   "execution_count": 1,
   "id": "39129b7e-b708-4b54-b344-2295748d6583",
   "metadata": {},
   "outputs": [],
   "source": [
    "import numpy as np"
   ]
  },
  {
   "cell_type": "markdown",
   "id": "2a5383fb-1332-4e97-bb61-f2fa090602ec",
   "metadata": {},
   "source": [
    "# Homework 2"
   ]
  },
  {
   "cell_type": "markdown",
   "id": "eaa42f60-e11d-4322-8d04-684c384a0ad2",
   "metadata": {},
   "source": [
    "## Task 1: load the array for tasks 2 to 5 from file and name it \"arr\":"
   ]
  },
  {
   "cell_type": "code",
   "execution_count": 2,
   "id": "50e5220b-0467-4dc5-b8f0-c0e64c4b8ab1",
   "metadata": {},
   "outputs": [
    {
     "data": {
      "text/plain": [
       "array([[100,  80,  70,  60, 120],\n",
       "       [ 65,  55,  20,  50,  60],\n",
       "       [ 80,  90,  75,  80,  60],\n",
       "       [ 45,  60,  70,  20,  40],\n",
       "       [ 82,  47,  56,  89,  92],\n",
       "       [115, 120, 113, 106, 107],\n",
       "       [ 46,  74,  23,  34,  19]], dtype=int64)"
      ]
     },
     "execution_count": 2,
     "metadata": {},
     "output_type": "execute_result"
    }
   ],
   "source": [
    "arr = np.load(\"array_hw.npy\")\n",
    "arr"
   ]
  },
  {
   "cell_type": "markdown",
   "id": "beb5be81-ca82-4484-bce3-d15734698177",
   "metadata": {},
   "source": [
    "## Task 2: reform the array, so 5 shops are defined as rows and days of week as columns:"
   ]
  },
  {
   "cell_type": "code",
   "execution_count": 3,
   "id": "f3456088-2da4-41c3-876e-316b8910a1c1",
   "metadata": {},
   "outputs": [
    {
     "data": {
      "text/plain": [
       "array([[100,  65,  80,  45,  82, 115,  46],\n",
       "       [ 80,  55,  90,  60,  47, 120,  74],\n",
       "       [ 70,  20,  75,  70,  56, 113,  23],\n",
       "       [ 60,  50,  80,  20,  89, 106,  34],\n",
       "       [120,  60,  60,  40,  92, 107,  19]], dtype=int64)"
      ]
     },
     "execution_count": 3,
     "metadata": {},
     "output_type": "execute_result"
    }
   ],
   "source": [
    "arr = np.rot90(arr)\n",
    "arr = np.flipud(arr)\n",
    "arr"
   ]
  },
  {
   "cell_type": "markdown",
   "id": "1bd0550b-66c8-48e4-8426-2ee81a4db97b",
   "metadata": {
    "tags": []
   },
   "source": [
    "## Task 3: imagine, that info of sales has changed, and the 5th shop sold 25 ice creams instead of 19 on Sunday, and 2nd shop sold 65 instead of 55 on Tuesday. Change the array to meet the new info:"
   ]
  },
  {
   "cell_type": "code",
   "execution_count": 4,
   "id": "cb45815e-7fb7-4daa-8cdb-f807a528831a",
   "metadata": {},
   "outputs": [
    {
     "data": {
      "text/plain": [
       "array([[100,  65,  80,  45,  82, 115,  46],\n",
       "       [ 80,  65,  90,  60,  47, 120,  74],\n",
       "       [ 70,  20,  75,  70,  56, 113,  23],\n",
       "       [ 60,  50,  80,  20,  89, 106,  34],\n",
       "       [120,  60,  60,  40,  92, 107,  25]], dtype=int64)"
      ]
     },
     "execution_count": 4,
     "metadata": {},
     "output_type": "execute_result"
    }
   ],
   "source": [
    "arr[4][6] = 25\n",
    "arr[1][1] = 65\n",
    "arr"
   ]
  },
  {
   "cell_type": "markdown",
   "id": "17da743b-d46c-4727-b0c8-cb2e9016af28",
   "metadata": {},
   "source": [
    "## Task 4: count the total sum of all shops:"
   ]
  },
  {
   "cell_type": "code",
   "execution_count": 5,
   "id": "862df548-47e4-41d2-9f9e-c5917131c4a3",
   "metadata": {},
   "outputs": [
    {
     "data": {
      "text/plain": [
       "2439"
      ]
     },
     "execution_count": 5,
     "metadata": {},
     "output_type": "execute_result"
    }
   ],
   "source": [
    "arr.sum()"
   ]
  },
  {
   "cell_type": "markdown",
   "id": "6be0df5e-1bfa-4ec0-9e83-afa779d9b9f6",
   "metadata": {},
   "source": [
    "## Task 5: save current \"arr\" to a txt file\""
   ]
  },
  {
   "cell_type": "code",
   "execution_count": 6,
   "id": "e2e72a9a-5cac-49c2-b1a7-49af21c794bf",
   "metadata": {},
   "outputs": [],
   "source": [
    "np.savetxt(\"arr_hw_02.txt\", arr, fmt='%i')"
   ]
  },
  {
   "cell_type": "markdown",
   "id": "13915da9-16c3-40d6-a00f-7d313ee15c2b",
   "metadata": {},
   "source": [
    "## Task 6: income is a given array which contains shop's income in the beggining, middle and end of the year in the duration of four years (values are not grouped and can be treated as loaded from a file). Change array so it contains the list with three values (beggining, middle and end of the year) in the array:"
   ]
  },
  {
   "cell_type": "code",
   "execution_count": 7,
   "id": "e6205a85-486a-4af1-b687-4dabd92f570a",
   "metadata": {},
   "outputs": [],
   "source": [
    "# Given data\n",
    "income = np.array([1000, 2000, 3500, \n",
    "                   2500, 1500, 3800, \n",
    "                   1200, 9000, 12000,\n",
    "                   4500, 6700, 11000])"
   ]
  },
  {
   "cell_type": "code",
   "execution_count": 8,
   "id": "f88c5ee0-ad85-407e-89e9-6c75061512d5",
   "metadata": {},
   "outputs": [
    {
     "data": {
      "text/plain": [
       "array([[ 1000,  2000,  3500],\n",
       "       [ 2500,  1500,  3800],\n",
       "       [ 1200,  9000, 12000],\n",
       "       [ 4500,  6700, 11000]])"
      ]
     },
     "execution_count": 8,
     "metadata": {},
     "output_type": "execute_result"
    }
   ],
   "source": [
    "temp_total_list= []\n",
    "for index in range(0, len(income), 3):\n",
    "    temp_list = []\n",
    "    for jindex in range(0, 3):\n",
    "        if index+jindex <= len(income):\n",
    "            temp_list.append(income[index+jindex])\n",
    "    temp_total_list.append(temp_list)\n",
    "formed_income = np.array(temp_total_list)\n",
    "formed_income"
   ]
  },
  {
   "cell_type": "markdown",
   "id": "b6404a23-2eac-42ec-98cc-78fa978a87c5",
   "metadata": {},
   "source": [
    "## Task 7: create list \"turnout\" containing next values of turnout on polling stations in %: 23.56, 45.78, 34.92, 57.34, 56.55, 67.23. Create new list \"turnout_r\", which will consist of same values but rounded to the one decimal place, using built in functions (not the numpy ones):"
   ]
  },
  {
   "cell_type": "code",
   "execution_count": 9,
   "id": "da5c0bf5-8848-429f-b621-192bc998b668",
   "metadata": {},
   "outputs": [],
   "source": [
    "turnout = [23.56, 45.78, 34.92, 57.34, 56.55, 67.23]"
   ]
  },
  {
   "cell_type": "code",
   "execution_count": 10,
   "id": "25a2ea34-4a26-42b9-a2c5-96f31e26f478",
   "metadata": {},
   "outputs": [],
   "source": [
    "turnout_r = turnout"
   ]
  },
  {
   "cell_type": "code",
   "execution_count": 11,
   "id": "ef687326-228e-4433-ab65-ce55f979ae9c",
   "metadata": {},
   "outputs": [
    {
     "data": {
      "text/plain": [
       "[23.6, 45.8, 34.9, 57.3, 56.5, 67.2]"
      ]
     },
     "execution_count": 11,
     "metadata": {},
     "output_type": "execute_result"
    }
   ],
   "source": [
    "turnout_r = [round(x, 1) for x in turnout_r]\n",
    "turnout_r"
   ]
  },
  {
   "cell_type": "markdown",
   "id": "a1971896-94ea-4371-b895-0e4744016a6a",
   "metadata": {},
   "source": [
    "## Task 8: do task 7 but with numpy"
   ]
  },
  {
   "cell_type": "code",
   "execution_count": 14,
   "id": "ee996cba-b131-49b2-b1c1-1c75d1da13ff",
   "metadata": {},
   "outputs": [
    {
     "data": {
      "text/plain": [
       "array([23.56, 45.78, 34.92, 57.34, 56.55, 67.23])"
      ]
     },
     "execution_count": 14,
     "metadata": {},
     "output_type": "execute_result"
    }
   ],
   "source": [
    "turnout = np.array([23.56, 45.78, 34.92, 57.34, 56.55, 67.23])\n",
    "turnout"
   ]
  },
  {
   "cell_type": "code",
   "execution_count": 15,
   "id": "9821d557-a210-460f-bc32-cbc376e7be7f",
   "metadata": {},
   "outputs": [
    {
     "data": {
      "text/plain": [
       "array([23.6, 45.8, 34.9, 57.3, 56.6, 67.2])"
      ]
     },
     "execution_count": 15,
     "metadata": {},
     "output_type": "execute_result"
    }
   ],
   "source": [
    "turnout_r = np.round(turnout, 1)\n",
    "turnout_r"
   ]
  },
  {
   "cell_type": "markdown",
   "id": "6dc74412-a591-4821-bb74-433005c11bca",
   "metadata": {},
   "source": [
    "## Task 9: go to the wikipedia page of international happines index of 2012 and choose 5 countries and 3 indicators and create a structured array \"happy\". Think about data types for the fields. It musst contain a \"country\" field and 3 fields for chosen indicators. Print array:"
   ]
  },
  {
   "cell_type": "code",
   "execution_count": 21,
   "id": "d708ae0b-f0fa-4103-8f35-a698fb3c9b67",
   "metadata": {},
   "outputs": [
    {
     "name": "stdout",
     "output_type": "stream",
     "text": [
      "[('France', 46.5, 6.8, 81.5) ('Austria', 47.1, 7.3, 80.9)\n",
      " ('Germany', 47.2, 6.7, 80.4) ('Japan', 47.5, 6.1, 83.4)\n",
      " ('Great Britan', 47.9, 7. , 80.2)]\n"
     ]
    }
   ],
   "source": [
    "happy = np.array([(\"France\", 46.5, 6.8, 81.5),\n",
    "                  (\"Austria\", 47.1, 7.3, 80.9),\n",
    "                  (\"Germany\", 47.2, 6.7, 80.4),\n",
    "                  (\"Japan\", 47.5, 6.1, 83.4),\n",
    "                  (\"Great Britan\", 47.9, 7.0, 80.2)],\n",
    "                 dtype=[('Country', '<U30'),('HPI', '<f4'),('Satisfaction', '<f4'),('Life expectancy', '<f4')])\n",
    "print(happy)"
   ]
  },
  {
   "cell_type": "markdown",
   "id": "7a5ff2b3-6613-4db1-b0eb-e26bea747ce9",
   "metadata": {},
   "source": [
    "## Task 10: convert structured array in task 9 to a simple list and print it's second element:"
   ]
  },
  {
   "cell_type": "code",
   "execution_count": 25,
   "id": "9a898cae-6b6a-4039-9cef-b9d238c66e37",
   "metadata": {},
   "outputs": [
    {
     "name": "stdout",
     "output_type": "stream",
     "text": [
      "('Austria', 47.099998474121094, 7.300000190734863, 80.9000015258789)\n"
     ]
    }
   ],
   "source": [
    "happy_simple = happy.tolist()\n",
    "print(happy_simple[1])"
   ]
  },
  {
   "cell_type": "markdown",
   "id": "0bb44916-ec4d-4026-b11b-6b974f93ea3e",
   "metadata": {},
   "source": [
    "## Additional 1: create function \"build_array(), which gets as an input a size of square matrix and creates an identity matrix without ready functions but with cycles and if-else:"
   ]
  },
  {
   "cell_type": "code",
   "execution_count": 29,
   "id": "e8a48722-6191-4d19-8455-8b7c9eb8f734",
   "metadata": {},
   "outputs": [],
   "source": [
    "def build_array(size):\n",
    "    array = []\n",
    "    for row in range(0, size):\n",
    "        temp_row = []\n",
    "        for column in range(0, size):\n",
    "            if row == column:\n",
    "                temp_row.append(1)\n",
    "            else:\n",
    "                temp_row.append(0)\n",
    "        array.append(temp_row)\n",
    "    return np.array(array)"
   ]
  },
  {
   "cell_type": "code",
   "execution_count": 31,
   "id": "f1b69a2a-9083-4bb2-ac1b-e3459305bbaa",
   "metadata": {},
   "outputs": [
    {
     "name": "stdout",
     "output_type": "stream",
     "text": [
      "[[1 0 0 0 0]\n",
      " [0 1 0 0 0]\n",
      " [0 0 1 0 0]\n",
      " [0 0 0 1 0]\n",
      " [0 0 0 0 1]]\n"
     ]
    }
   ],
   "source": [
    "array = build_array(5)\n",
    "print(array)"
   ]
  },
  {
   "cell_type": "markdown",
   "id": "3916507e-bc30-410a-9386-2f43ea39efaf",
   "metadata": {},
   "source": [
    "## Additional 2: create function \"my_reshape\", which inputs an array and its new dimantions. If array size is correct, return new array, if not, return empty array:"
   ]
  },
  {
   "cell_type": "code",
   "execution_count": 42,
   "id": "b4ca2dbd-c050-4180-b2a9-06dc951c63f3",
   "metadata": {},
   "outputs": [],
   "source": [
    "def my_reshape(old_array, h, w):\n",
    "    old_array = np.array(old_array)\n",
    "    row, col = old_array.shape\n",
    "    if row*col != h*w:\n",
    "        return np.array([])\n",
    "    old_array = old_array.flatten()\n",
    "    array = []\n",
    "    for row in range(0, h):\n",
    "        temp_row = []\n",
    "        for col in range(0, w):\n",
    "            temp_row.append(old_array[row * w + col])\n",
    "        array.append(temp_row)\n",
    "    return np.array(array)"
   ]
  },
  {
   "cell_type": "code",
   "execution_count": 41,
   "id": "c0e37934-b9fc-4dc6-a646-37a0d22048ee",
   "metadata": {},
   "outputs": [
    {
     "data": {
      "text/plain": [
       "array([], dtype=float64)"
      ]
     },
     "execution_count": 41,
     "metadata": {},
     "output_type": "execute_result"
    }
   ],
   "source": [
    "A = np.array([[2, 4, 6], [4, 8, 10]])\n",
    "my_reshape(A, 2, 4)"
   ]
  },
  {
   "cell_type": "code",
   "execution_count": 43,
   "id": "0b9076e6-25b6-4718-9441-8fa066d6bda3",
   "metadata": {},
   "outputs": [
    {
     "data": {
      "text/plain": [
       "array([[ 2,  4],\n",
       "       [ 6,  4],\n",
       "       [ 8, 10]])"
      ]
     },
     "execution_count": 43,
     "metadata": {},
     "output_type": "execute_result"
    }
   ],
   "source": [
    "my_reshape(A, 3, 2) "
   ]
  }
 ],
 "metadata": {
  "kernelspec": {
   "display_name": "Python 3 (ipykernel)",
   "language": "python",
   "name": "python3"
  },
  "language_info": {
   "codemirror_mode": {
    "name": "ipython",
    "version": 3
   },
   "file_extension": ".py",
   "mimetype": "text/x-python",
   "name": "python",
   "nbconvert_exporter": "python",
   "pygments_lexer": "ipython3",
   "version": "3.11.1"
  }
 },
 "nbformat": 4,
 "nbformat_minor": 5
}
