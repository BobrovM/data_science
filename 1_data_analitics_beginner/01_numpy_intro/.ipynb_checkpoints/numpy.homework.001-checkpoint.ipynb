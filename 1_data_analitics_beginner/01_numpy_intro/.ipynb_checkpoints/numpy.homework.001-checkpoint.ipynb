{
 "cells": [
  {
   "cell_type": "markdown",
   "id": "6550f049",
   "metadata": {},
   "source": [
    "# Import the data."
   ]
  },
  {
   "cell_type": "code",
   "execution_count": 2,
   "id": "95b02038",
   "metadata": {},
   "outputs": [],
   "source": [
    "import numpy as np\n",
    "scores = np.array([[20, 40, 56, 80, 0, 5, 25, 27, 74, 1],\n",
    " [0, 98, 67, 100, 8, 56, 34, 82, 100, 7],\n",
    " [78, 54, 23, 79, 100, 0, 0, 42, 95, 83],\n",
    " [51, 50, 47, 23, 100, 94, 25, 48, 38, 77],\n",
    " [90, 87, 41, 89, 52, 0, 5, 17, 28, 99],\n",
    " [32, 18, 21, 18, 29, 31, 48, 62, 76, 22],\n",
    " [6, 0, 65, 78, 43, 22, 38, 88, 94, 100],\n",
    " [77, 28, 39, 41, 0, 81, 45, 54, 98, 12],\n",
    " [66, 0, 88, 0, 44, 0, 55, 100, 12, 11],\n",
    " [17, 70, 86, 96, 56, 23, 32, 49, 70, 80],\n",
    " [20, 24, 76, 50, 29, 40, 3, 2, 5, 11],\n",
    " [33, 63, 28, 40, 51, 100, 98, 87, 22, 30],\n",
    " [16, 54, 78, 12, 25, 35, 10, 19, 67, 0],\n",
    " [100, 88, 24, 33, 47, 56, 62, 34, 77, 53],\n",
    " [50, 89, 70, 72, 56, 29, 15, 20, 0, 0]])"
   ]
  },
  {
   "cell_type": "markdown",
   "id": "b03c5cd1",
   "metadata": {},
   "source": [
    "# 1: how much people got 0 for entry exam"
   ]
  },
  {
   "cell_type": "code",
   "execution_count": 4,
   "id": "74cf6113",
   "metadata": {},
   "outputs": [
    {
     "data": {
      "text/plain": [
       "13"
      ]
     },
     "execution_count": 4,
     "metadata": {},
     "output_type": "execute_result"
    }
   ],
   "source": [
    "zeroed = scores == 0\n",
    "zeroed.sum()"
   ]
  },
  {
   "cell_type": "markdown",
   "id": "69dc5696",
   "metadata": {},
   "source": [
    "# 2: how much people got more than 50 points for entry exam"
   ]
  },
  {
   "cell_type": "code",
   "execution_count": 5,
   "id": "42ba195c",
   "metadata": {},
   "outputs": [
    {
     "data": {
      "text/plain": [
       "64"
      ]
     },
     "execution_count": 5,
     "metadata": {},
     "output_type": "execute_result"
    }
   ],
   "source": [
    "more_than_50 = scores > 50\n",
    "more_than_50.sum()"
   ]
  },
  {
   "cell_type": "markdown",
   "id": "9bf61b0d",
   "metadata": {},
   "source": [
    "# 3: how much people got more than 50 but less than 70"
   ]
  },
  {
   "cell_type": "code",
   "execution_count": 8,
   "id": "b144d74d",
   "metadata": {
    "scrolled": true
   },
   "outputs": [
    {
     "data": {
      "text/plain": [
       "26"
      ]
     },
     "execution_count": 8,
     "metadata": {},
     "output_type": "execute_result"
    }
   ],
   "source": [
    "from_50_to_70 = (scores >= 50) & (scores <= 70)\n",
    "from_50_to_70.sum()"
   ]
  },
  {
   "cell_type": "markdown",
   "id": "93007868",
   "metadata": {},
   "source": [
    "# 4: group with highest mean score"
   ]
  },
  {
   "cell_type": "code",
   "execution_count": 13,
   "id": "37b1477d",
   "metadata": {},
   "outputs": [
    {
     "data": {
      "text/plain": [
       "array([32.8, 55.2, 55.4, 55.3, 50.8, 35.7, 53.4, 47.5, 37.6, 57.9, 26. ,\n",
       "       55.2, 31.6, 57.4, 40.1])"
      ]
     },
     "execution_count": 13,
     "metadata": {},
     "output_type": "execute_result"
    }
   ],
   "source": [
    "highest_mean = scores.mean(axis=1)\n",
    "highest_mean"
   ]
  },
  {
   "cell_type": "code",
   "execution_count": 14,
   "id": "0767b18a",
   "metadata": {},
   "outputs": [
    {
     "data": {
      "text/plain": [
       "9"
      ]
     },
     "execution_count": 14,
     "metadata": {},
     "output_type": "execute_result"
    }
   ],
   "source": [
    "highest_mean.argmax()"
   ]
  },
  {
   "cell_type": "markdown",
   "id": "97935d39",
   "metadata": {},
   "source": [
    "# 5: save non-zero scores in the \"nonzero\" array"
   ]
  },
  {
   "cell_type": "code",
   "execution_count": 15,
   "id": "c7af40c4",
   "metadata": {},
   "outputs": [
    {
     "data": {
      "text/plain": [
       "array([ 20,  40,  56,  80,   5,  25,  27,  74,   1,  98,  67, 100,   8,\n",
       "        56,  34,  82, 100,   7,  78,  54,  23,  79, 100,  42,  95,  83,\n",
       "        51,  50,  47,  23, 100,  94,  25,  48,  38,  77,  90,  87,  41,\n",
       "        89,  52,   5,  17,  28,  99,  32,  18,  21,  18,  29,  31,  48,\n",
       "        62,  76,  22,   6,  65,  78,  43,  22,  38,  88,  94, 100,  77,\n",
       "        28,  39,  41,  81,  45,  54,  98,  12,  66,  88,  44,  55, 100,\n",
       "        12,  11,  17,  70,  86,  96,  56,  23,  32,  49,  70,  80,  20,\n",
       "        24,  76,  50,  29,  40,   3,   2,   5,  11,  33,  63,  28,  40,\n",
       "        51, 100,  98,  87,  22,  30,  16,  54,  78,  12,  25,  35,  10,\n",
       "        19,  67, 100,  88,  24,  33,  47,  56,  62,  34,  77,  53,  50,\n",
       "        89,  70,  72,  56,  29,  15,  20])"
      ]
     },
     "execution_count": 15,
     "metadata": {},
     "output_type": "execute_result"
    }
   ],
   "source": [
    "nonzero = scores[scores > 0]\n",
    "nonzero"
   ]
  },
  {
   "cell_type": "markdown",
   "id": "0530ca08",
   "metadata": {},
   "source": [
    "# 6: using the \"nonzero\" array, get the minimal score"
   ]
  },
  {
   "cell_type": "code",
   "execution_count": 16,
   "id": "042a23e0",
   "metadata": {},
   "outputs": [
    {
     "data": {
      "text/plain": [
       "1"
      ]
     },
     "execution_count": 16,
     "metadata": {},
     "output_type": "execute_result"
    }
   ],
   "source": [
    "minimal_nonzero_score = nonzero.min()\n",
    "minimal_nonzero_score"
   ]
  },
  {
   "cell_type": "markdown",
   "id": "47970ebf",
   "metadata": {},
   "source": [
    "# 7: using the \"nonzero\" array, save variables with value more than 80 in the \"advanced\" array"
   ]
  },
  {
   "cell_type": "code",
   "execution_count": 17,
   "id": "0c22b85d",
   "metadata": {},
   "outputs": [
    {
     "data": {
      "text/plain": [
       "array([ 98, 100,  82, 100, 100,  95,  83, 100,  94,  90,  87,  89,  99,\n",
       "        88,  94, 100,  81,  98,  88, 100,  86,  96, 100,  98,  87, 100,\n",
       "        88,  89])"
      ]
     },
     "execution_count": 17,
     "metadata": {},
     "output_type": "execute_result"
    }
   ],
   "source": [
    "advanced = nonzero[nonzero > 80]\n",
    "advanced"
   ]
  },
  {
   "cell_type": "markdown",
   "id": "a20b1c02",
   "metadata": {},
   "source": [
    "# 8: get dimentions of \"advanced\" array"
   ]
  },
  {
   "cell_type": "code",
   "execution_count": 21,
   "id": "f56575b7",
   "metadata": {},
   "outputs": [
    {
     "data": {
      "text/plain": [
       "1"
      ]
     },
     "execution_count": 21,
     "metadata": {},
     "output_type": "execute_result"
    }
   ],
   "source": [
    "advanced.ndim"
   ]
  },
  {
   "cell_type": "markdown",
   "id": "9b09b6a0",
   "metadata": {},
   "source": [
    "# 9: get a shape of the array"
   ]
  },
  {
   "cell_type": "code",
   "execution_count": 20,
   "id": "df556bae",
   "metadata": {},
   "outputs": [
    {
     "data": {
      "text/plain": [
       "(28,)"
      ]
     },
     "execution_count": 20,
     "metadata": {},
     "output_type": "execute_result"
    }
   ],
   "source": [
    "advanced.shape"
   ]
  },
  {
   "cell_type": "markdown",
   "id": "8228186b",
   "metadata": {},
   "source": [
    "# 10: get a size of the array"
   ]
  },
  {
   "cell_type": "code",
   "execution_count": 22,
   "id": "b817baee",
   "metadata": {},
   "outputs": [
    {
     "data": {
      "text/plain": [
       "28"
      ]
     },
     "execution_count": 22,
     "metadata": {},
     "output_type": "execute_result"
    }
   ],
   "source": [
    "advanced.size"
   ]
  },
  {
   "cell_type": "markdown",
   "id": "15c5f456",
   "metadata": {},
   "source": [
    "# 11: using initial data \"scores\", get a boolean array named \"sto\", where 100 is true and else is false"
   ]
  },
  {
   "cell_type": "code",
   "execution_count": 23,
   "id": "218dd22a",
   "metadata": {},
   "outputs": [
    {
     "data": {
      "text/plain": [
       "array([[False, False, False, False, False, False, False, False, False,\n",
       "        False],\n",
       "       [False, False, False,  True, False, False, False, False,  True,\n",
       "        False],\n",
       "       [False, False, False, False,  True, False, False, False, False,\n",
       "        False],\n",
       "       [False, False, False, False,  True, False, False, False, False,\n",
       "        False],\n",
       "       [False, False, False, False, False, False, False, False, False,\n",
       "        False],\n",
       "       [False, False, False, False, False, False, False, False, False,\n",
       "        False],\n",
       "       [False, False, False, False, False, False, False, False, False,\n",
       "         True],\n",
       "       [False, False, False, False, False, False, False, False, False,\n",
       "        False],\n",
       "       [False, False, False, False, False, False, False,  True, False,\n",
       "        False],\n",
       "       [False, False, False, False, False, False, False, False, False,\n",
       "        False],\n",
       "       [False, False, False, False, False, False, False, False, False,\n",
       "        False],\n",
       "       [False, False, False, False, False,  True, False, False, False,\n",
       "        False],\n",
       "       [False, False, False, False, False, False, False, False, False,\n",
       "        False],\n",
       "       [ True, False, False, False, False, False, False, False, False,\n",
       "        False],\n",
       "       [False, False, False, False, False, False, False, False, False,\n",
       "        False]])"
      ]
     },
     "execution_count": 23,
     "metadata": {},
     "output_type": "execute_result"
    }
   ],
   "source": [
    "bool_array = (scores == 100)\n",
    "bool_array"
   ]
  },
  {
   "cell_type": "markdown",
   "id": "323057e8",
   "metadata": {},
   "source": [
    "# 12: using initial data, print first 7 rows."
   ]
  },
  {
   "cell_type": "code",
   "execution_count": 24,
   "id": "9f8a8bba",
   "metadata": {},
   "outputs": [
    {
     "name": "stdout",
     "output_type": "stream",
     "text": [
      "[[ 20  40  56  80   0   5  25  27  74   1]\n",
      " [  0  98  67 100   8  56  34  82 100   7]\n",
      " [ 78  54  23  79 100   0   0  42  95  83]\n",
      " [ 51  50  47  23 100  94  25  48  38  77]\n",
      " [ 90  87  41  89  52   0   5  17  28  99]\n",
      " [ 32  18  21  18  29  31  48  62  76  22]\n",
      " [  6   0  65  78  43  22  38  88  94 100]\n",
      " [ 77  28  39  41   0  81  45  54  98  12]]\n"
     ]
    }
   ],
   "source": [
    "print(scores[0:8])"
   ]
  }
 ],
 "metadata": {
  "kernelspec": {
   "display_name": "Python 3 (ipykernel)",
   "language": "python",
   "name": "python3"
  },
  "language_info": {
   "codemirror_mode": {
    "name": "ipython",
    "version": 3
   },
   "file_extension": ".py",
   "mimetype": "text/x-python",
   "name": "python",
   "nbconvert_exporter": "python",
   "pygments_lexer": "ipython3",
   "version": "3.11.1"
  }
 },
 "nbformat": 4,
 "nbformat_minor": 5
}
