{
 "cells": [
  {
   "cell_type": "code",
   "execution_count": 4,
   "id": "39129b7e-b708-4b54-b344-2295748d6583",
   "metadata": {},
   "outputs": [],
   "source": [
    "import numpy as np"
   ]
  },
  {
   "cell_type": "markdown",
   "id": "2a5383fb-1332-4e97-bb61-f2fa090602ec",
   "metadata": {},
   "source": [
    "# Homework 2"
   ]
  },
  {
   "cell_type": "markdown",
   "id": "eaa42f60-e11d-4322-8d04-684c384a0ad2",
   "metadata": {},
   "source": [
    "## Task 1: load the array for tasks 2 to 5 from file and name it \"arr\":"
   ]
  },
  {
   "cell_type": "code",
   "execution_count": 28,
   "id": "50e5220b-0467-4dc5-b8f0-c0e64c4b8ab1",
   "metadata": {},
   "outputs": [
    {
     "data": {
      "text/plain": [
       "array([[100,  80,  70,  60, 120],\n",
       "       [ 65,  55,  20,  50,  60],\n",
       "       [ 80,  90,  75,  80,  60],\n",
       "       [ 45,  60,  70,  20,  40],\n",
       "       [ 82,  47,  56,  89,  92],\n",
       "       [115, 120, 113, 106, 107],\n",
       "       [ 46,  74,  23,  34,  19]], dtype=int64)"
      ]
     },
     "execution_count": 28,
     "metadata": {},
     "output_type": "execute_result"
    }
   ],
   "source": [
    "arr = np.load(\"array_hw.npy\")\n",
    "arr"
   ]
  },
  {
   "cell_type": "markdown",
   "id": "beb5be81-ca82-4484-bce3-d15734698177",
   "metadata": {},
   "source": [
    "## Task 2: reform the array, so 5 shops are defined as rows and days of week as columns:"
   ]
  },
  {
   "cell_type": "code",
   "execution_count": 29,
   "id": "f3456088-2da4-41c3-876e-316b8910a1c1",
   "metadata": {},
   "outputs": [
    {
     "data": {
      "text/plain": [
       "array([[100,  65,  80,  45,  82, 115,  46],\n",
       "       [ 80,  55,  90,  60,  47, 120,  74],\n",
       "       [ 70,  20,  75,  70,  56, 113,  23],\n",
       "       [ 60,  50,  80,  20,  89, 106,  34],\n",
       "       [120,  60,  60,  40,  92, 107,  19]], dtype=int64)"
      ]
     },
     "execution_count": 29,
     "metadata": {},
     "output_type": "execute_result"
    }
   ],
   "source": [
    "arr = np.rot90(arr)\n",
    "arr = np.flipud(arr)\n",
    "arr"
   ]
  },
  {
   "cell_type": "markdown",
   "id": "1bd0550b-66c8-48e4-8426-2ee81a4db97b",
   "metadata": {
    "tags": []
   },
   "source": [
    "## Task 3: imagine, that info of sales has changed, and the 5th shop sold 25 ice creams instead of 19 on Sunday, and 2nd shop sold 65 instead of 55 on Tuesday. Change the array to meet the new info:"
   ]
  },
  {
   "cell_type": "code",
   "execution_count": 31,
   "id": "cb45815e-7fb7-4daa-8cdb-f807a528831a",
   "metadata": {},
   "outputs": [
    {
     "data": {
      "text/plain": [
       "array([[100,  65,  80,  45,  82, 115,  46],\n",
       "       [ 80,  65,  90,  60,  47, 120,  74],\n",
       "       [ 70,  20,  75,  70,  56, 113,  23],\n",
       "       [ 60,  50,  80,  20,  89, 106,  34],\n",
       "       [120,  60,  60,  40,  92, 107,  25]], dtype=int64)"
      ]
     },
     "execution_count": 31,
     "metadata": {},
     "output_type": "execute_result"
    }
   ],
   "source": [
    "arr[4][6] = 25\n",
    "arr[1][1] = 65\n",
    "arr"
   ]
  },
  {
   "cell_type": "markdown",
   "id": "17da743b-d46c-4727-b0c8-cb2e9016af28",
   "metadata": {},
   "source": [
    "## Task 4: count the total sum of all shops:"
   ]
  },
  {
   "cell_type": "code",
   "execution_count": 32,
   "id": "862df548-47e4-41d2-9f9e-c5917131c4a3",
   "metadata": {},
   "outputs": [
    {
     "data": {
      "text/plain": [
       "2439"
      ]
     },
     "execution_count": 32,
     "metadata": {},
     "output_type": "execute_result"
    }
   ],
   "source": [
    "arr.sum()"
   ]
  },
  {
   "cell_type": "markdown",
   "id": "6be0df5e-1bfa-4ec0-9e83-afa779d9b9f6",
   "metadata": {},
   "source": [
    "## Task 5: save current \"arr\" to a txt file\""
   ]
  },
  {
   "cell_type": "code",
   "execution_count": 38,
   "id": "e2e72a9a-5cac-49c2-b1a7-49af21c794bf",
   "metadata": {},
   "outputs": [],
   "source": [
    "np.savetxt(\"arr_hw_02.txt\", arr, fmt='%i')"
   ]
  },
  {
   "cell_type": "markdown",
   "id": "13915da9-16c3-40d6-a00f-7d313ee15c2b",
   "metadata": {},
   "source": [
    "### Still have to do tasks 6 to 10 with additional tasks 1 and 2"
   ]
  }
 ],
 "metadata": {
  "kernelspec": {
   "display_name": "Python 3 (ipykernel)",
   "language": "python",
   "name": "python3"
  },
  "language_info": {
   "codemirror_mode": {
    "name": "ipython",
    "version": 3
   },
   "file_extension": ".py",
   "mimetype": "text/x-python",
   "name": "python",
   "nbconvert_exporter": "python",
   "pygments_lexer": "ipython3",
   "version": "3.11.1"
  }
 },
 "nbformat": 4,
 "nbformat_minor": 5
}
