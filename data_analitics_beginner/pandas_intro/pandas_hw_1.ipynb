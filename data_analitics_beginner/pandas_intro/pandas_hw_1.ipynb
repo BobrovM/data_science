{
 "cells": [
  {
   "cell_type": "markdown",
   "id": "0c69d6ce",
   "metadata": {},
   "source": [
    "# Homework 1"
   ]
  },
  {
   "cell_type": "code",
   "execution_count": 1,
   "id": "1adffd20",
   "metadata": {},
   "outputs": [],
   "source": [
    "import numpy as np\n",
    "import pandas as pd"
   ]
  },
  {
   "cell_type": "markdown",
   "id": "bebc6914",
   "metadata": {},
   "source": [
    "## Task 1"
   ]
  },
  {
   "cell_type": "markdown",
   "id": "180f132e",
   "metadata": {},
   "source": [
    "### Load an array and transform it into the datagrame:"
   ]
  },
  {
   "cell_type": "code",
   "execution_count": 8,
   "id": "e7116a00",
   "metadata": {
    "scrolled": true
   },
   "outputs": [
    {
     "data": {
      "text/html": [
       "<div>\n",
       "<style scoped>\n",
       "    .dataframe tbody tr th:only-of-type {\n",
       "        vertical-align: middle;\n",
       "    }\n",
       "\n",
       "    .dataframe tbody tr th {\n",
       "        vertical-align: top;\n",
       "    }\n",
       "\n",
       "    .dataframe thead th {\n",
       "        text-align: right;\n",
       "    }\n",
       "</style>\n",
       "<table border=\"1\" class=\"dataframe\">\n",
       "  <thead>\n",
       "    <tr style=\"text-align: right;\">\n",
       "      <th></th>\n",
       "      <th>0</th>\n",
       "      <th>1</th>\n",
       "      <th>2</th>\n",
       "      <th>3</th>\n",
       "      <th>4</th>\n",
       "      <th>5</th>\n",
       "    </tr>\n",
       "  </thead>\n",
       "  <tbody>\n",
       "    <tr>\n",
       "      <th>0</th>\n",
       "      <td>Aonach Mor Gondola</td>\n",
       "      <td>2.0</td>\n",
       "      <td>2000</td>\n",
       "      <td>0.403611</td>\n",
       "      <td>0.518889</td>\n",
       "      <td>uphill</td>\n",
       "    </tr>\n",
       "    <tr>\n",
       "      <th>1</th>\n",
       "      <td>Broughton Brewery</td>\n",
       "      <td>2.0</td>\n",
       "      <td>650</td>\n",
       "      <td>0.254444</td>\n",
       "      <td>0.316667</td>\n",
       "      <td>other</td>\n",
       "    </tr>\n",
       "    <tr>\n",
       "      <th>2</th>\n",
       "      <td>El-Brim-Ick</td>\n",
       "      <td>3.0</td>\n",
       "      <td>750</td>\n",
       "      <td>0.485833</td>\n",
       "      <td>0.389167</td>\n",
       "      <td>other</td>\n",
       "    </tr>\n",
       "    <tr>\n",
       "      <th>3</th>\n",
       "      <td>The Devils Burdens</td>\n",
       "      <td>21.0</td>\n",
       "      <td>4100</td>\n",
       "      <td>2.399722</td>\n",
       "      <td>3.093333</td>\n",
       "      <td>relay</td>\n",
       "    </tr>\n",
       "    <tr>\n",
       "      <th>4</th>\n",
       "      <td>Tiso Carnethy</td>\n",
       "      <td>6.0</td>\n",
       "      <td>2500</td>\n",
       "      <td>0.782222</td>\n",
       "      <td>0.919167</td>\n",
       "      <td>hill</td>\n",
       "    </tr>\n",
       "    <tr>\n",
       "      <th>...</th>\n",
       "      <td>...</td>\n",
       "      <td>...</td>\n",
       "      <td>...</td>\n",
       "      <td>...</td>\n",
       "      <td>...</td>\n",
       "      <td>...</td>\n",
       "    </tr>\n",
       "    <tr>\n",
       "      <th>72</th>\n",
       "      <td>Tinto</td>\n",
       "      <td>4.5</td>\n",
       "      <td>1500</td>\n",
       "      <td>0.499444</td>\n",
       "      <td>0.581111</td>\n",
       "      <td>hill</td>\n",
       "    </tr>\n",
       "    <tr>\n",
       "      <th>73</th>\n",
       "      <td>Druim Fada</td>\n",
       "      <td>6.5</td>\n",
       "      <td>1000</td>\n",
       "      <td>0.751111</td>\n",
       "      <td>0.972222</td>\n",
       "      <td>other</td>\n",
       "    </tr>\n",
       "    <tr>\n",
       "      <th>74</th>\n",
       "      <td>Elrick</td>\n",
       "      <td>3.6</td>\n",
       "      <td>650</td>\n",
       "      <td>0.358056</td>\n",
       "      <td>0.4425</td>\n",
       "      <td>relay</td>\n",
       "    </tr>\n",
       "    <tr>\n",
       "      <th>75</th>\n",
       "      <td>Gondola</td>\n",
       "      <td>2.5</td>\n",
       "      <td>2000</td>\n",
       "      <td>0.387222</td>\n",
       "      <td>0.518889</td>\n",
       "      <td>uphill</td>\n",
       "    </tr>\n",
       "    <tr>\n",
       "      <th>76</th>\n",
       "      <td>Greenmantle</td>\n",
       "      <td>2.0</td>\n",
       "      <td>650</td>\n",
       "      <td>0.254444</td>\n",
       "      <td>0.316667</td>\n",
       "      <td>other</td>\n",
       "    </tr>\n",
       "  </tbody>\n",
       "</table>\n",
       "<p>77 rows × 6 columns</p>\n",
       "</div>"
      ],
      "text/plain": [
       "                     0     1     2         3         4       5\n",
       "0   Aonach Mor Gondola   2.0  2000  0.403611  0.518889  uphill\n",
       "1    Broughton Brewery   2.0   650  0.254444  0.316667   other\n",
       "2          El-Brim-Ick   3.0   750  0.485833  0.389167   other\n",
       "3   The Devils Burdens  21.0  4100  2.399722  3.093333   relay\n",
       "4        Tiso Carnethy   6.0  2500  0.782222  0.919167    hill\n",
       "..                 ...   ...   ...       ...       ...     ...\n",
       "72               Tinto   4.5  1500  0.499444  0.581111    hill\n",
       "73          Druim Fada   6.5  1000  0.751111  0.972222   other\n",
       "74              Elrick   3.6   650  0.358056    0.4425   relay\n",
       "75             Gondola   2.5  2000  0.387222  0.518889  uphill\n",
       "76         Greenmantle   2.0   650  0.254444  0.316667   other\n",
       "\n",
       "[77 rows x 6 columns]"
      ]
     },
     "execution_count": 8,
     "metadata": {},
     "output_type": "execute_result"
    }
   ],
   "source": [
    "array = np.load(\"arr_pandas.npy\", allow_pickle = True)\n",
    "df = pd.DataFrame(array)\n",
    "df"
   ]
  },
  {
   "cell_type": "markdown",
   "id": "ca624ea6",
   "metadata": {},
   "source": [
    "## Task 2"
   ]
  },
  {
   "cell_type": "markdown",
   "id": "d78aff19",
   "metadata": {},
   "source": [
    "### Get amount of rows and columns by code:"
   ]
  },
  {
   "cell_type": "code",
   "execution_count": 9,
   "id": "f577d0f9",
   "metadata": {
    "scrolled": true
   },
   "outputs": [
    {
     "data": {
      "text/plain": [
       "77"
      ]
     },
     "execution_count": 9,
     "metadata": {},
     "output_type": "execute_result"
    }
   ],
   "source": [
    "len(df)"
   ]
  },
  {
   "cell_type": "code",
   "execution_count": 10,
   "id": "d59085fd",
   "metadata": {},
   "outputs": [
    {
     "data": {
      "text/plain": [
       "6"
      ]
     },
     "execution_count": 10,
     "metadata": {},
     "output_type": "execute_result"
    }
   ],
   "source": [
    "len(df.columns)"
   ]
  },
  {
   "cell_type": "markdown",
   "id": "bccb5d2e",
   "metadata": {},
   "source": [
    "## Task 3"
   ]
  },
  {
   "cell_type": "markdown",
   "id": "3e01179d",
   "metadata": {},
   "source": [
    "### Assign names to the columns: \"id\" of participant; \"dist\" in miles; \"climb\" as an altitude reached on the route; \"time\" in hours; \"timef\" in hours for women; \"type\" (hill, marathon, relay, uphill or other)."
   ]
  },
  {
   "cell_type": "code",
   "execution_count": 11,
   "id": "7d09628b",
   "metadata": {
    "scrolled": true
   },
   "outputs": [
    {
     "data": {
      "text/html": [
       "<div>\n",
       "<style scoped>\n",
       "    .dataframe tbody tr th:only-of-type {\n",
       "        vertical-align: middle;\n",
       "    }\n",
       "\n",
       "    .dataframe tbody tr th {\n",
       "        vertical-align: top;\n",
       "    }\n",
       "\n",
       "    .dataframe thead th {\n",
       "        text-align: right;\n",
       "    }\n",
       "</style>\n",
       "<table border=\"1\" class=\"dataframe\">\n",
       "  <thead>\n",
       "    <tr style=\"text-align: right;\">\n",
       "      <th></th>\n",
       "      <th>id</th>\n",
       "      <th>dist</th>\n",
       "      <th>climb</th>\n",
       "      <th>time</th>\n",
       "      <th>timef</th>\n",
       "      <th>type</th>\n",
       "    </tr>\n",
       "  </thead>\n",
       "  <tbody>\n",
       "    <tr>\n",
       "      <th>0</th>\n",
       "      <td>Aonach Mor Gondola</td>\n",
       "      <td>2.0</td>\n",
       "      <td>2000</td>\n",
       "      <td>0.403611</td>\n",
       "      <td>0.518889</td>\n",
       "      <td>uphill</td>\n",
       "    </tr>\n",
       "    <tr>\n",
       "      <th>1</th>\n",
       "      <td>Broughton Brewery</td>\n",
       "      <td>2.0</td>\n",
       "      <td>650</td>\n",
       "      <td>0.254444</td>\n",
       "      <td>0.316667</td>\n",
       "      <td>other</td>\n",
       "    </tr>\n",
       "    <tr>\n",
       "      <th>2</th>\n",
       "      <td>El-Brim-Ick</td>\n",
       "      <td>3.0</td>\n",
       "      <td>750</td>\n",
       "      <td>0.485833</td>\n",
       "      <td>0.389167</td>\n",
       "      <td>other</td>\n",
       "    </tr>\n",
       "    <tr>\n",
       "      <th>3</th>\n",
       "      <td>The Devils Burdens</td>\n",
       "      <td>21.0</td>\n",
       "      <td>4100</td>\n",
       "      <td>2.399722</td>\n",
       "      <td>3.093333</td>\n",
       "      <td>relay</td>\n",
       "    </tr>\n",
       "    <tr>\n",
       "      <th>4</th>\n",
       "      <td>Tiso Carnethy</td>\n",
       "      <td>6.0</td>\n",
       "      <td>2500</td>\n",
       "      <td>0.782222</td>\n",
       "      <td>0.919167</td>\n",
       "      <td>hill</td>\n",
       "    </tr>\n",
       "    <tr>\n",
       "      <th>...</th>\n",
       "      <td>...</td>\n",
       "      <td>...</td>\n",
       "      <td>...</td>\n",
       "      <td>...</td>\n",
       "      <td>...</td>\n",
       "      <td>...</td>\n",
       "    </tr>\n",
       "    <tr>\n",
       "      <th>72</th>\n",
       "      <td>Tinto</td>\n",
       "      <td>4.5</td>\n",
       "      <td>1500</td>\n",
       "      <td>0.499444</td>\n",
       "      <td>0.581111</td>\n",
       "      <td>hill</td>\n",
       "    </tr>\n",
       "    <tr>\n",
       "      <th>73</th>\n",
       "      <td>Druim Fada</td>\n",
       "      <td>6.5</td>\n",
       "      <td>1000</td>\n",
       "      <td>0.751111</td>\n",
       "      <td>0.972222</td>\n",
       "      <td>other</td>\n",
       "    </tr>\n",
       "    <tr>\n",
       "      <th>74</th>\n",
       "      <td>Elrick</td>\n",
       "      <td>3.6</td>\n",
       "      <td>650</td>\n",
       "      <td>0.358056</td>\n",
       "      <td>0.4425</td>\n",
       "      <td>relay</td>\n",
       "    </tr>\n",
       "    <tr>\n",
       "      <th>75</th>\n",
       "      <td>Gondola</td>\n",
       "      <td>2.5</td>\n",
       "      <td>2000</td>\n",
       "      <td>0.387222</td>\n",
       "      <td>0.518889</td>\n",
       "      <td>uphill</td>\n",
       "    </tr>\n",
       "    <tr>\n",
       "      <th>76</th>\n",
       "      <td>Greenmantle</td>\n",
       "      <td>2.0</td>\n",
       "      <td>650</td>\n",
       "      <td>0.254444</td>\n",
       "      <td>0.316667</td>\n",
       "      <td>other</td>\n",
       "    </tr>\n",
       "  </tbody>\n",
       "</table>\n",
       "<p>77 rows × 6 columns</p>\n",
       "</div>"
      ],
      "text/plain": [
       "                    id  dist climb      time     timef    type\n",
       "0   Aonach Mor Gondola   2.0  2000  0.403611  0.518889  uphill\n",
       "1    Broughton Brewery   2.0   650  0.254444  0.316667   other\n",
       "2          El-Brim-Ick   3.0   750  0.485833  0.389167   other\n",
       "3   The Devils Burdens  21.0  4100  2.399722  3.093333   relay\n",
       "4        Tiso Carnethy   6.0  2500  0.782222  0.919167    hill\n",
       "..                 ...   ...   ...       ...       ...     ...\n",
       "72               Tinto   4.5  1500  0.499444  0.581111    hill\n",
       "73          Druim Fada   6.5  1000  0.751111  0.972222   other\n",
       "74              Elrick   3.6   650  0.358056    0.4425   relay\n",
       "75             Gondola   2.5  2000  0.387222  0.518889  uphill\n",
       "76         Greenmantle   2.0   650  0.254444  0.316667   other\n",
       "\n",
       "[77 rows x 6 columns]"
      ]
     },
     "execution_count": 11,
     "metadata": {},
     "output_type": "execute_result"
    }
   ],
   "source": [
    "df.columns = [\"id\", \"dist\", \"climb\", \"time\", \"timef\", \"type\"]\n",
    "df"
   ]
  },
  {
   "cell_type": "markdown",
   "id": "8aa99a98",
   "metadata": {},
   "source": [
    "## Task 4"
   ]
  },
  {
   "cell_type": "markdown",
   "id": "4f1b7f80",
   "metadata": {},
   "source": [
    "### Get the climb value of a participant named Norman's Law"
   ]
  },
  {
   "cell_type": "code",
   "execution_count": 21,
   "id": "b982d86c",
   "metadata": {},
   "outputs": [
    {
     "data": {
      "text/html": [
       "<div>\n",
       "<style scoped>\n",
       "    .dataframe tbody tr th:only-of-type {\n",
       "        vertical-align: middle;\n",
       "    }\n",
       "\n",
       "    .dataframe tbody tr th {\n",
       "        vertical-align: top;\n",
       "    }\n",
       "\n",
       "    .dataframe thead th {\n",
       "        text-align: right;\n",
       "    }\n",
       "</style>\n",
       "<table border=\"1\" class=\"dataframe\">\n",
       "  <thead>\n",
       "    <tr style=\"text-align: right;\">\n",
       "      <th></th>\n",
       "      <th>id</th>\n",
       "      <th>dist</th>\n",
       "      <th>climb</th>\n",
       "      <th>time</th>\n",
       "      <th>timef</th>\n",
       "      <th>type</th>\n",
       "    </tr>\n",
       "  </thead>\n",
       "  <tbody>\n",
       "    <tr>\n",
       "      <th>7</th>\n",
       "      <td>Norman's Law</td>\n",
       "      <td>5.0</td>\n",
       "      <td>700</td>\n",
       "      <td>0.464167</td>\n",
       "      <td>0.609167</td>\n",
       "      <td>hill</td>\n",
       "    </tr>\n",
       "  </tbody>\n",
       "</table>\n",
       "</div>"
      ],
      "text/plain": [
       "             id dist climb      time     timef  type\n",
       "7  Norman's Law  5.0   700  0.464167  0.609167  hill"
      ]
     },
     "execution_count": 21,
     "metadata": {},
     "output_type": "execute_result"
    }
   ],
   "source": [
    "df[df[\"id\"] == \"Norman's Law\"]"
   ]
  },
  {
   "cell_type": "code",
   "execution_count": 25,
   "id": "223648b4",
   "metadata": {},
   "outputs": [
    {
     "data": {
      "text/plain": [
       "700"
      ]
     },
     "execution_count": 25,
     "metadata": {},
     "output_type": "execute_result"
    }
   ],
   "source": [
    "df[df[\"id\"] == \"Norman's Law\"][\"climb\"].squeeze()"
   ]
  }
 ],
 "metadata": {
  "kernelspec": {
   "display_name": "Python 3 (ipykernel)",
   "language": "python",
   "name": "python3"
  },
  "language_info": {
   "codemirror_mode": {
    "name": "ipython",
    "version": 3
   },
   "file_extension": ".py",
   "mimetype": "text/x-python",
   "name": "python",
   "nbconvert_exporter": "python",
   "pygments_lexer": "ipython3",
   "version": "3.11.1"
  }
 },
 "nbformat": 4,
 "nbformat_minor": 5
}
